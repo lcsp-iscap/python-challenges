{
 "cells": [
  {
   "cell_type": "markdown",
   "metadata": {},
   "source": [
    "# 11. Cleaning the mailing list\n",
    "\n",
    "## For loop to change list elements \n"
   ]
  },
  {
   "cell_type": "markdown",
   "metadata": {
    "jp-MarkdownHeadingCollapsed": true,
    "tags": []
   },
   "source": [
    "--- "
   ]
  },
  {
   "cell_type": "markdown",
   "metadata": {},
   "source": [
    "- You are responsible for a newsletter, and you have to send an email to the following addresses:"
   ]
  },
  {
   "cell_type": "code",
   "execution_count": 1,
   "metadata": {},
   "outputs": [],
   "source": [
    "email = [\"SARAH.BROWN@GMAIL.com\", \"Pablo.Hernandez@live.com\", \"LI.Min@hotmail.com\"] "
   ]
  },
  {
   "cell_type": "markdown",
   "metadata": {},
   "source": [
    "- For the sake of consistency, you want all email addresses to be lowercase. So you change them:"
   ]
  },
  {
   "cell_type": "code",
   "execution_count": 2,
   "metadata": {},
   "outputs": [
    {
     "name": "stdout",
     "output_type": "stream",
     "text": [
      "-> Loop: 0\n",
      "Before the change, the element in position 0 is: SARAH.BROWN@GMAIL.com\n",
      "After the change, the element in position 0 is: sarah.brown@gmail.com\n",
      "-> Loop: 1\n",
      "Before the change, the element in position 1 is: Pablo.Hernandez@live.com\n",
      "After the change, the element in position 1 is: pablo.hernandez@live.com\n",
      "-> Loop: 2\n",
      "Before the change, the element in position 2 is: LI.Min@hotmail.com\n",
      "After the change, the element in position 2 is: li.min@hotmail.com\n",
      "Now the list is: ['sarah.brown@gmail.com', 'pablo.hernandez@live.com', 'li.min@hotmail.com']\n"
     ]
    }
   ],
   "source": [
    "# your code here"
   ]
  }
 ],
 "metadata": {
  "kernelspec": {
   "display_name": "Python 3 (ipykernel)",
   "language": "python",
   "name": "python3"
  },
  "language_info": {
   "codemirror_mode": {
    "name": "ipython",
    "version": 3
   },
   "file_extension": ".py",
   "mimetype": "text/x-python",
   "name": "python",
   "nbconvert_exporter": "python",
   "pygments_lexer": "ipython3",
   "version": "3.12.2"
  },
  "widgets": {
   "application/vnd.jupyter.widget-state+json": {
    "state": {},
    "version_major": 2,
    "version_minor": 0
   }
  }
 },
 "nbformat": 4,
 "nbformat_minor": 4
}
