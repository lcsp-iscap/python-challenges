{
 "cells": [
  {
   "cell_type": "markdown",
   "metadata": {},
   "source": [
    "# 22. More about the for loop\n",
    "\n",
    "## Various ways of repeating commands on lists and beyond\n",
    "\n",
    "---"
   ]
  },
  {
   "cell_type": "markdown",
   "metadata": {},
   "source": [
    "\n",
    "## 1. Repeating commands\n",
    "\n",
    "- Print 3 random numbers between 1 and 10:"
   ]
  },
  {
   "cell_type": "code",
   "execution_count": null,
   "metadata": {
    "tags": []
   },
   "outputs": [],
   "source": [
    "# your code here"
   ]
  },
  {
   "cell_type": "markdown",
   "metadata": {},
   "source": [
    "---\n",
    "## 2. For loops with lists"
   ]
  },
  {
   "cell_type": "markdown",
   "metadata": {
    "tags": []
   },
   "source": [
    "### 2.1. For loop through *indices*\n"
   ]
  },
  {
   "cell_type": "markdown",
   "metadata": {},
   "source": [
    "- Capitalize each string using a for loop through *indices*:"
   ]
  },
  {
   "cell_type": "code",
   "execution_count": 1,
   "metadata": {},
   "outputs": [
    {
     "name": "stdout",
     "output_type": "stream",
     "text": [
      "The element in position 0 is: garcia\n",
      "The element in position 1 is: smith\n",
      "The element in position 2 is: zhang\n",
      "['Garcia', 'Smith', 'Zhang']\n"
     ]
    }
   ],
   "source": [
    "last_names = [\"garcia\", \"smith\", \"zhang\"]\n",
    "\n",
    "# your code here"
   ]
  },
  {
   "cell_type": "markdown",
   "metadata": {
    "tags": []
   },
   "source": [
    "### 2.2 For loop through *elements* "
   ]
  },
  {
   "cell_type": "markdown",
   "metadata": {},
   "source": [
    "- Capitalize each string using a for loop through  *elements*:"
   ]
  },
  {
   "cell_type": "code",
   "execution_count": 2,
   "metadata": {},
   "outputs": [
    {
     "name": "stdout",
     "output_type": "stream",
     "text": [
      "The current element is: garcia\n",
      "The current element is: smith\n",
      "The current element is: zhang\n",
      "['Garcia', 'Smith', 'Zhang']\n"
     ]
    }
   ],
   "source": [
    "last_names = [\"garcia\", \"smith\", \"zhang\"]\n",
    "last_names_upper = [] \n",
    " \n",
    "# your code here"
   ]
  },
  {
   "cell_type": "markdown",
   "metadata": {},
   "source": [
    "### 2.3 For loop through *indeces* and *elements* \n",
    "\n",
    "\n",
    "- Capitalize each string using a for loop through and *indeces and elements*:"
   ]
  },
  {
   "cell_type": "code",
   "execution_count": null,
   "metadata": {
    "tags": []
   },
   "outputs": [],
   "source": [
    "last_names = [\"garcia\", \"smith\", \"zhang\"]\n",
    "\n",
    "# your code here                         "
   ]
  },
  {
   "cell_type": "markdown",
   "metadata": {},
   "source": [
    "### 2.4 List comprehension \n",
    "\n",
    "- Capitalize each string using *list comprehension* containing a for loop through *indices*:"
   ]
  },
  {
   "cell_type": "code",
   "execution_count": null,
   "metadata": {},
   "outputs": [],
   "source": [
    "last_names = [\"garcia\", \"smith\", \"zhang\"]\n",
    "last_names = [last_names[i].title() for i in range(len(last_names))] \n",
    "print (last_names)"
   ]
  },
  {
   "cell_type": "markdown",
   "metadata": {},
   "source": [
    "- Capitalize each string using *list comprehension* containing a for loop through *elements*:"
   ]
  },
  {
   "cell_type": "code",
   "execution_count": null,
   "metadata": {},
   "outputs": [],
   "source": [
    "last_names = [\"garcia\", \"smith\", \"zhang\"]\n",
    "# your code here"
   ]
  },
  {
   "cell_type": "markdown",
   "metadata": {
    "tags": []
   },
   "source": [
    "- Keep and capitalize only the elements shorter than 6 characters:"
   ]
  },
  {
   "cell_type": "code",
   "execution_count": null,
   "metadata": {},
   "outputs": [],
   "source": [
    "last_names = [\"garcia\", \"smith\", \"zhang\"]\n",
    "# your code here"
   ]
  },
  {
   "cell_type": "markdown",
   "metadata": {},
   "source": [
    "- Delete elements that are composed of 5 characters:"
   ]
  },
  {
   "cell_type": "code",
   "execution_count": null,
   "metadata": {},
   "outputs": [],
   "source": [
    "last_names = [\"garcia\", \"smith\", \"zhang\"]\n",
    "# your code here"
   ]
  },
  {
   "cell_type": "markdown",
   "metadata": {},
   "source": [
    "---\n",
    "## 3. Nested for loops \n",
    "\n",
    "- Given the following list of vowels: "
   ]
  },
  {
   "cell_type": "code",
   "execution_count": 3,
   "metadata": {},
   "outputs": [],
   "source": [
    "vowels = [\"A\", \"E\", \"I\", \"O\", \"U\"]"
   ]
  },
  {
   "cell_type": "markdown",
   "metadata": {},
   "source": [
    "- For each vowel, print all the vowels on the right:"
   ]
  },
  {
   "cell_type": "code",
   "execution_count": 4,
   "metadata": {},
   "outputs": [
    {
     "name": "stdout",
     "output_type": "stream",
     "text": [
      "-- A\n",
      "E\n",
      "I\n",
      "O\n",
      "U\n",
      "-- E\n",
      "I\n",
      "O\n",
      "U\n",
      "-- I\n",
      "O\n",
      "U\n",
      "-- O\n",
      "U\n",
      "-- U\n"
     ]
    }
   ],
   "source": [
    "# your code here"
   ]
  }
 ],
 "metadata": {
  "kernelspec": {
   "display_name": "Python 3 (ipykernel)",
   "language": "python",
   "name": "python3"
  },
  "language_info": {
   "codemirror_mode": {
    "name": "ipython",
    "version": 3
   },
   "file_extension": ".py",
   "mimetype": "text/x-python",
   "name": "python",
   "nbconvert_exporter": "python",
   "pygments_lexer": "ipython3",
   "version": "3.12.2"
  },
  "widgets": {
   "application/vnd.jupyter.widget-state+json": {
    "state": {},
    "version_major": 2,
    "version_minor": 0
   }
  }
 },
 "nbformat": 4,
 "nbformat_minor": 4
}
